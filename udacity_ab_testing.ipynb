{
 "cells": [
  {
   "cell_type": "markdown",
   "metadata": {},
   "source": [
    "# Udacity AB Testing Final Project"
   ]
  },
  {
   "cell_type": "markdown",
   "metadata": {
    "vscode": {
     "languageId": "plaintext"
    }
   },
   "source": [
    "## Experiment overview\n",
    "### Description of the experiment\n",
    "In the experiment, Udacity tested a change where if the student clicked \"start free trial\", they were asked how much time they had available to devote to the course. If the student indicated 5 or more hours per week, they would be taken through the checkout process as usual. If they indicated fewer than 5 hours per week, a message would appear indicating that Udacity courses usually require a greater time commitment for successful completion, and suggesting that the student might like to access the course materials for free. At this point, the student would have the option to continue enrolling in the free trial, or access the course materials for free instead.\n",
    "### Experiment hypothesis\n",
    "The hypothesis was that this might set clearer expectations for students upfront, thus reducing the number of frustrated students who left the free trial because they didn't have enough time—without significantly reducing the number of students to continue past the free trial and eventually complete the course. If this hypothesis held true, Udacity could improve the overall student experience and improve coaches' capacity to support students who are likely to complete the course.\n",
    "### Metrics\n",
    "* Number of cookies: That is, number of unique cookies to view the course overview page. (dmin=3000)\n",
    "* Number of user-ids: That is, number of users who enroll in the free trial. (dmin=50)\n",
    "* Number of clicks: That is, number of unique cookies to click the \"Start free trial\" button (which happens before the free trial screener is trigger). (dmin=240)\n",
    "* Click-through-probability: That is, number of unique cookies to click the \"Start free trial\" button divided by number of unique cookies to view the course overview page. (dmin=0.01)\n",
    "* Gross conversion: That is, number of user-ids to complete checkout and enroll in the free trial divided by number of unique cookies to click the \"Start free trial\" button. (dmin= 0.01)\n",
    "* Retention: That is, number of user-ids to remain enrolled past the 14-day boundary (and thus make at least one payment) divided by number of user-ids to complete checkout. (dmin=0.01)\n",
    "* Net conversion: That is, number of user-ids to remain enrolled past the 14-day boundary (and thus make at least one payment) divided by the number of unique cookies to click the \"Start free trial\" button. (dmin= 0.0075)\n"
   ]
  },
  {
   "cell_type": "markdown",
   "metadata": {},
   "source": [
    "## Metric choice\n",
    "* invariate metric (used for sanity check): number of cookies, number of clicks, click-through-probability\n",
    "* evaluation metric: gross conversion, retention, net conversion"
   ]
  },
  {
   "cell_type": "markdown",
   "metadata": {},
   "source": [
    "## Baseline values for these metrics"
   ]
  },
  {
   "cell_type": "code",
   "execution_count": 15,
   "metadata": {},
   "outputs": [
    {
     "data": {
      "text/html": [
       "<div>\n",
       "<style scoped>\n",
       "    .dataframe tbody tr th:only-of-type {\n",
       "        vertical-align: middle;\n",
       "    }\n",
       "\n",
       "    .dataframe tbody tr th {\n",
       "        vertical-align: top;\n",
       "    }\n",
       "\n",
       "    .dataframe thead th {\n",
       "        text-align: right;\n",
       "    }\n",
       "</style>\n",
       "<table border=\"1\" class=\"dataframe\">\n",
       "  <thead>\n",
       "    <tr style=\"text-align: right;\">\n",
       "      <th></th>\n",
       "      <th>Metric</th>\n",
       "      <th>Baseline Value</th>\n",
       "    </tr>\n",
       "  </thead>\n",
       "  <tbody>\n",
       "    <tr>\n",
       "      <th>0</th>\n",
       "      <td>Unique cookies to view course overview page per day:</td>\n",
       "      <td>40000.000000</td>\n",
       "    </tr>\n",
       "    <tr>\n",
       "      <th>1</th>\n",
       "      <td>Unique cookies to click \"Start free trial\" per day:</td>\n",
       "      <td>3200.000000</td>\n",
       "    </tr>\n",
       "    <tr>\n",
       "      <th>2</th>\n",
       "      <td>Enrollments per day:</td>\n",
       "      <td>660.000000</td>\n",
       "    </tr>\n",
       "    <tr>\n",
       "      <th>3</th>\n",
       "      <td>Click-through-probability on \"Start free trial\":</td>\n",
       "      <td>0.080000</td>\n",
       "    </tr>\n",
       "    <tr>\n",
       "      <th>4</th>\n",
       "      <td>Probability of enrolling, given click:</td>\n",
       "      <td>0.206250</td>\n",
       "    </tr>\n",
       "    <tr>\n",
       "      <th>5</th>\n",
       "      <td>Probability of payment, given enroll:</td>\n",
       "      <td>0.530000</td>\n",
       "    </tr>\n",
       "    <tr>\n",
       "      <th>6</th>\n",
       "      <td>Probability of payment, given click</td>\n",
       "      <td>0.109313</td>\n",
       "    </tr>\n",
       "  </tbody>\n",
       "</table>\n",
       "</div>"
      ],
      "text/plain": [
       "                                                 Metric  Baseline Value\n",
       "0  Unique cookies to view course overview page per day:    40000.000000\n",
       "1   Unique cookies to click \"Start free trial\" per day:     3200.000000\n",
       "2                                  Enrollments per day:      660.000000\n",
       "3      Click-through-probability on \"Start free trial\":        0.080000\n",
       "4                Probability of enrolling, given click:        0.206250\n",
       "5                 Probability of payment, given enroll:        0.530000\n",
       "6                   Probability of payment, given click        0.109313"
      ]
     },
     "execution_count": 15,
     "metadata": {},
     "output_type": "execute_result"
    }
   ],
   "source": [
    "import pandas as pd\n",
    "df = pd.read_csv(\"Final Project Baseline.csv\", names=[\"Metric\", \"Baseline Value\"])\n",
    "pd.set_option('display.max_colwidth', None)\n",
    "df"
   ]
  },
  {
   "cell_type": "code",
   "execution_count": 16,
   "metadata": {},
   "outputs": [
    {
     "data": {
      "text/plain": [
       "{'Cookies': 40000,\n",
       " 'Clicks': 3200,\n",
       " 'Enrollments': 660,\n",
       " 'CTP': 0.08,\n",
       " 'Gross_Conversion': 0.20625,\n",
       " 'Retention': 0.53,\n",
       " 'Net_Conversion': 0.109313}"
      ]
     },
     "execution_count": 16,
     "metadata": {},
     "output_type": "execute_result"
    }
   ],
   "source": [
    "baselines = {\n",
    "    \"Cookies\":40000,\n",
    "    \"Clicks\":3200,\n",
    "    \"Enrollments\":660,\n",
    "    \"CTP\":0.08,\n",
    "    \"Gross_Conversion\":0.206250,\n",
    "    \"Retention\":0.53,\n",
    "    \"Net_Conversion\":0.109313\n",
    "    }\n",
    "baselines"
   ]
  },
  {
   "cell_type": "markdown",
   "metadata": {},
   "source": [
    "## Estimating standard deviation"
   ]
  },
  {
   "cell_type": "markdown",
   "metadata": {},
   "source": [
    "### Calculate standard deviation for evaluation metrics\n",
    "* Gross conversion = Number of enrollments / Number of clicks\n",
    "* Retention = Number of payments / Number of enrollments\n",
    "* Net conversion = Number of payments / Number of clicks"
   ]
  },
  {
   "cell_type": "code",
   "execution_count": 17,
   "metadata": {},
   "outputs": [
    {
     "data": {
      "text/plain": [
       "({'d_min': 0.01, 'p': 0.20625, 'n': 3200, 'sd': 0.0072},\n",
       " {'d_min': 0.01, 'p': 0.53, 'n': 660, 'sd': 0.0194},\n",
       " {'d_min': 0.0075, 'p': 0.109313, 'n': 3200, 'sd': 0.0055})"
      ]
     },
     "execution_count": 17,
     "metadata": {},
     "output_type": "execute_result"
    }
   ],
   "source": [
    "import math\n",
    "import numpy as np\n",
    "GC = {}\n",
    "GC[\"d_min\"] = 0.01\n",
    "GC['p'] =baselines['Gross_Conversion']\n",
    "GC['n'] = baselines['Clicks']\n",
    "GC['sd'] = round(np.sqrt((GC['p']*(1-GC['p']))/GC['n']),4)\n",
    "Retention = {}\n",
    "Retention[\"d_min\"] = 0.01\n",
    "Retention['p'] = baselines['Retention']\n",
    "Retention['n'] = baselines['Enrollments']\n",
    "Retention['sd'] = round(math.sqrt((Retention['p']*(1-Retention['p']))/Retention['n']),4)\n",
    "NC = {}\n",
    "NC[\"d_min\"] = 0.0075\n",
    "NC['p'] = baselines['Net_Conversion']\n",
    "NC['n'] = baselines['Clicks']\n",
    "NC['sd'] = round(math.sqrt((NC['p']*(1-NC['p']))/NC['n']),4)\n",
    "GC, Retention, NC"
   ]
  },
  {
   "cell_type": "markdown",
   "metadata": {},
   "source": [
    " Given the sample size of cookies is 5000, we need to scale each n to 5000 to the ratio of 5000/40000."
   ]
  },
  {
   "cell_type": "code",
   "execution_count": 18,
   "metadata": {},
   "outputs": [
    {
     "name": "stdout",
     "output_type": "stream",
     "text": [
      "The standard deviation for Gross Conversion is 0.0202 , given a sample size of 5000 cookies\n",
      "The standard deviation for Retention is 0.0549 , given a sample size of 5000 cookies\n",
      "The standard deviation for Net Conversion is 0.0156 , given a sample size of 5000 cookies\n"
     ]
    }
   ],
   "source": [
    "scale_ratio = 5000/40000\n",
    "gc_sd = round(np.sqrt((GC['p']*(1-GC['p']))/(GC['n']*scale_ratio)),4)\n",
    "retention_sd = round(np.sqrt((Retention['p']*(1-Retention['p']))/(Retention['n']*scale_ratio)),4)\n",
    "nc_sd = round(np.sqrt((NC['p']*(1-NC['p']))/(NC['n']*scale_ratio)),4)\n",
    "print(\"The standard deviation for Gross Conversion is\", gc_sd, \", given a sample size of 5000 cookies\")\n",
    "print(\"The standard deviation for Retention is\", retention_sd, \", given a sample size of 5000 cookies\")\n",
    "print(\"The standard deviation for Net Conversion is\", nc_sd, \", given a sample size of 5000 cookies\")"
   ]
  },
  {
   "cell_type": "markdown",
   "metadata": {},
   "source": [
    "## Sample Size Calculation\n",
    "* alpha = 0.05\n",
    "* beta = 0.2"
   ]
  },
  {
   "cell_type": "code",
   "execution_count": 19,
   "metadata": {},
   "outputs": [],
   "source": [
    "alpha = 0.05\n",
    "beta = 0.2"
   ]
  },
  {
   "cell_type": "code",
   "execution_count": 20,
   "metadata": {},
   "outputs": [],
   "source": [
    "import scipy.stats as stats\n",
    "def get_sd(p, dmin):\n",
    "    sd1 = math.sqrt(2*p*(1-p))\n",
    "    sd2 = math.sqrt(p*(1-p) + (p+dmin)*(1-(p+dmin)))\n",
    "    return [sd1, sd2]\n",
    "def get_z_score(x): # x is the percentage of the distribution\n",
    "    return stats.norm.ppf(x)"
   ]
  },
  {
   "cell_type": "markdown",
   "metadata": {},
   "source": [
    "### Gross conversion"
   ]
  },
  {
   "cell_type": "code",
   "execution_count": 21,
   "metadata": {},
   "outputs": [
    {
     "name": "stdout",
     "output_type": "stream",
     "text": [
      "Number of clicks needed per group: 25835\n"
     ]
    }
   ],
   "source": [
    "sd1,sd2 = get_sd(GC['p'], GC['d_min'])\n",
    "z_alpha = get_z_score(1-alpha/2)\n",
    "z_beta = get_z_score(1-beta)\n",
    "GC['sample_size'] = round((z_alpha*sd1 + z_beta*sd2)**2/GC['d_min']**2)\n",
    "print(\"Number of clicks needed per group:\",GC['sample_size'])"
   ]
  },
  {
   "cell_type": "markdown",
   "metadata": {},
   "source": [
    "#### Derive the needed page views for gross conversion\n",
    "* The ratio of clicks to page views is 0.08, so the number of page views needed is Number of clicks / 0.08\n",
    "* there are two groups in the experiment, so the number of page views needed for each group is Number of page views needed per group * 2"
   ]
  },
  {
   "cell_type": "code",
   "execution_count": 22,
   "metadata": {},
   "outputs": [
    {
     "name": "stdout",
     "output_type": "stream",
     "text": [
      "Number of pageviews needed in experiment: 645875.0\n"
     ]
    }
   ],
   "source": [
    "GC['pageviews'] = GC['sample_size'] / 0.08 * 2\n",
    "print(\"Number of pageviews needed in experiment:\",GC['pageviews']) #GC['n']"
   ]
  },
  {
   "cell_type": "markdown",
   "metadata": {},
   "source": [
    "### Retention"
   ]
  },
  {
   "cell_type": "code",
   "execution_count": 23,
   "metadata": {},
   "outputs": [
    {
     "name": "stdout",
     "output_type": "stream",
     "text": [
      "Number of enrollments needed per group: 39087\n"
     ]
    }
   ],
   "source": [
    "sd1, sd2 = get_sd(Retention['p'], Retention['d_min'])\n",
    "z_alpha = get_z_score(1-alpha/2)\n",
    "z_beta = get_z_score(1-beta)\n",
    "Retention['sample_size'] = round((z_alpha*sd1 + z_beta*sd2)**2/Retention['d_min']**2)\n",
    "print(\"Number of enrollments needed per group:\",Retention['sample_size'])\n"
   ]
  },
  {
   "cell_type": "markdown",
   "metadata": {},
   "source": [
    "#### Derive the needed page views for Retention\n",
    "* The ratio of enrollments to clicks is 0.20625, so the number of clicks needed is Number of enrollments / 0.20625\n",
    "* Then, The ratio of clicks to page views is 0.08, so the number of page views needed is Number of clicks / 0.08\n",
    "* there are two groups in the experiment, so the number of page views needed for each group is Number of page views needed per group * 2"
   ]
  },
  {
   "cell_type": "code",
   "execution_count": 24,
   "metadata": {},
   "outputs": [
    {
     "name": "stdout",
     "output_type": "stream",
     "text": [
      "Number of pageviews needed in experiment: 4737818\n"
     ]
    }
   ],
   "source": [
    "Retention['pageviews'] = round(Retention['sample_size'] / baselines[\"Gross_Conversion\"] / baselines[\"CTP\"]* 2)\n",
    "print(\"Number of pageviews needed in experiment:\",Retention['pageviews'])"
   ]
  },
  {
   "cell_type": "markdown",
   "metadata": {},
   "source": [
    "### Net conversion"
   ]
  },
  {
   "cell_type": "code",
   "execution_count": 25,
   "metadata": {},
   "outputs": [
    {
     "name": "stdout",
     "output_type": "stream",
     "text": [
      "Number of clicks needed per group: 27413\n"
     ]
    }
   ],
   "source": [
    "sd1, sd2 = get_sd(NC['p'], NC['d_min'])\n",
    "z_alpha = get_z_score(1-alpha/2)\n",
    "z_beta = get_z_score(1-beta)\n",
    "NC['sample_size'] = round((z_alpha*sd1 + z_beta*sd2)**2/NC['d_min']**2)\n",
    "print(\"Number of clicks needed per group:\",NC['sample_size']) "
   ]
  },
  {
   "cell_type": "markdown",
   "metadata": {},
   "source": [
    "#### Derive the needed page views for Net conversion\n",
    "* The ratio of clicks to page views is 0.08, so the number of page views needed is Number of clicks / 0.08\n",
    "* there are two groups in the experiment, so the number of page views needed for each group is Number of page views needed per group * 2"
   ]
  },
  {
   "cell_type": "code",
   "execution_count": 26,
   "metadata": {},
   "outputs": [
    {
     "name": "stdout",
     "output_type": "stream",
     "text": [
      "Number of pageviews needed in experiment: 685325\n"
     ]
    }
   ],
   "source": [
    "NC['pageviews'] = round(NC['sample_size']/0.08*2)\n",
    "print(\"Number of pageviews needed in experiment:\",NC['pageviews'])"
   ]
  },
  {
   "cell_type": "markdown",
   "metadata": {},
   "source": [
    "### How many page views are needed for the experiment?\n",
    "* The number of page views needed for the experiment is the maximum number of page views needed for each metric."
   ]
  },
  {
   "cell_type": "code",
   "execution_count": 27,
   "metadata": {},
   "outputs": [
    {
     "name": "stdout",
     "output_type": "stream",
     "text": [
      "Number of pageviews needed in experiment: 4737818\n"
     ]
    }
   ],
   "source": [
    "print(\"Number of pageviews needed in experiment:\",max(GC['pageviews'], Retention['pageviews'], NC['pageviews']))"
   ]
  },
  {
   "cell_type": "markdown",
   "metadata": {},
   "source": [
    "### Approximate the duration of the experiment for each metric\n",
    "* As we see from the below results, the retention metric requires unreasonable amount of time to run the experiment. Therefore, we will not run the experiment for the retention metric.\n",
    "* To run the experiment for the gross conversion and net conversion metrics, we need to run the experiment for 18 days."
   ]
  },
  {
   "cell_type": "code",
   "execution_count": 28,
   "metadata": {},
   "outputs": [
    {
     "name": "stdout",
     "output_type": "stream",
     "text": [
      "Duration for Gross Conversion: 16.146875 days\n",
      "Duration for Retention: 118.44545 days\n",
      "Duration for Net Conversion: 17.133125 days\n"
     ]
    }
   ],
   "source": [
    "print(\"Duration for Gross Conversion:\",GC['pageviews']/40000, \"days\")\n",
    "print(\"Duration for Retention:\",Retention['pageviews']/40000, \"days\")\n",
    "print(\"Duration for Net Conversion:\",NC['pageviews']/40000, \"days\")"
   ]
  },
  {
   "cell_type": "markdown",
   "metadata": {},
   "source": []
  },
  {
   "cell_type": "markdown",
   "metadata": {},
   "source": [
    "## Sanity check for invariate metrics\n",
    "* Number of cookies\n",
    "* Number of clicks\n",
    "* Click-through-probability"
   ]
  },
  {
   "cell_type": "markdown",
   "metadata": {},
   "source": [
    "For each of the invariate metrics, we will calculate the 95% confidence interval and compare the observed value with the confidence interval."
   ]
  },
  {
   "cell_type": "code",
   "execution_count": 29,
   "metadata": {},
   "outputs": [
    {
     "data": {
      "text/html": [
       "<div>\n",
       "<style scoped>\n",
       "    .dataframe tbody tr th:only-of-type {\n",
       "        vertical-align: middle;\n",
       "    }\n",
       "\n",
       "    .dataframe tbody tr th {\n",
       "        vertical-align: top;\n",
       "    }\n",
       "\n",
       "    .dataframe thead th {\n",
       "        text-align: right;\n",
       "    }\n",
       "</style>\n",
       "<table border=\"1\" class=\"dataframe\">\n",
       "  <thead>\n",
       "    <tr style=\"text-align: right;\">\n",
       "      <th></th>\n",
       "      <th>Date</th>\n",
       "      <th>Pageviews</th>\n",
       "      <th>Clicks</th>\n",
       "      <th>Enrollments</th>\n",
       "      <th>Payments</th>\n",
       "    </tr>\n",
       "  </thead>\n",
       "  <tbody>\n",
       "    <tr>\n",
       "      <th>0</th>\n",
       "      <td>Sat, Oct 11</td>\n",
       "      <td>7723</td>\n",
       "      <td>687</td>\n",
       "      <td>134.0</td>\n",
       "      <td>70.0</td>\n",
       "    </tr>\n",
       "    <tr>\n",
       "      <th>1</th>\n",
       "      <td>Sun, Oct 12</td>\n",
       "      <td>9102</td>\n",
       "      <td>779</td>\n",
       "      <td>147.0</td>\n",
       "      <td>70.0</td>\n",
       "    </tr>\n",
       "    <tr>\n",
       "      <th>2</th>\n",
       "      <td>Mon, Oct 13</td>\n",
       "      <td>10511</td>\n",
       "      <td>909</td>\n",
       "      <td>167.0</td>\n",
       "      <td>95.0</td>\n",
       "    </tr>\n",
       "    <tr>\n",
       "      <th>3</th>\n",
       "      <td>Tue, Oct 14</td>\n",
       "      <td>9871</td>\n",
       "      <td>836</td>\n",
       "      <td>156.0</td>\n",
       "      <td>105.0</td>\n",
       "    </tr>\n",
       "    <tr>\n",
       "      <th>4</th>\n",
       "      <td>Wed, Oct 15</td>\n",
       "      <td>10014</td>\n",
       "      <td>837</td>\n",
       "      <td>163.0</td>\n",
       "      <td>64.0</td>\n",
       "    </tr>\n",
       "  </tbody>\n",
       "</table>\n",
       "</div>"
      ],
      "text/plain": [
       "          Date  Pageviews  Clicks  Enrollments  Payments\n",
       "0  Sat, Oct 11       7723     687        134.0      70.0\n",
       "1  Sun, Oct 12       9102     779        147.0      70.0\n",
       "2  Mon, Oct 13      10511     909        167.0      95.0\n",
       "3  Tue, Oct 14       9871     836        156.0     105.0\n",
       "4  Wed, Oct 15      10014     837        163.0      64.0"
      ]
     },
     "execution_count": 29,
     "metadata": {},
     "output_type": "execute_result"
    }
   ],
   "source": [
    "data_control = pd.read_csv('Final Project Results - Control.csv')\n",
    "data_exp = pd.read_csv('Final Project Results - Experiment.csv')\n",
    "data_control.head()"
   ]
  },
  {
   "cell_type": "code",
   "execution_count": 30,
   "metadata": {},
   "outputs": [
    {
     "data": {
      "text/html": [
       "<div>\n",
       "<style scoped>\n",
       "    .dataframe tbody tr th:only-of-type {\n",
       "        vertical-align: middle;\n",
       "    }\n",
       "\n",
       "    .dataframe tbody tr th {\n",
       "        vertical-align: top;\n",
       "    }\n",
       "\n",
       "    .dataframe thead th {\n",
       "        text-align: right;\n",
       "    }\n",
       "</style>\n",
       "<table border=\"1\" class=\"dataframe\">\n",
       "  <thead>\n",
       "    <tr style=\"text-align: right;\">\n",
       "      <th></th>\n",
       "      <th>Date</th>\n",
       "      <th>Pageviews</th>\n",
       "      <th>Clicks</th>\n",
       "      <th>Enrollments</th>\n",
       "      <th>Payments</th>\n",
       "    </tr>\n",
       "  </thead>\n",
       "  <tbody>\n",
       "    <tr>\n",
       "      <th>0</th>\n",
       "      <td>Sat, Oct 11</td>\n",
       "      <td>7716</td>\n",
       "      <td>686</td>\n",
       "      <td>105.0</td>\n",
       "      <td>34.0</td>\n",
       "    </tr>\n",
       "    <tr>\n",
       "      <th>1</th>\n",
       "      <td>Sun, Oct 12</td>\n",
       "      <td>9288</td>\n",
       "      <td>785</td>\n",
       "      <td>116.0</td>\n",
       "      <td>91.0</td>\n",
       "    </tr>\n",
       "    <tr>\n",
       "      <th>2</th>\n",
       "      <td>Mon, Oct 13</td>\n",
       "      <td>10480</td>\n",
       "      <td>884</td>\n",
       "      <td>145.0</td>\n",
       "      <td>79.0</td>\n",
       "    </tr>\n",
       "    <tr>\n",
       "      <th>3</th>\n",
       "      <td>Tue, Oct 14</td>\n",
       "      <td>9867</td>\n",
       "      <td>827</td>\n",
       "      <td>138.0</td>\n",
       "      <td>92.0</td>\n",
       "    </tr>\n",
       "    <tr>\n",
       "      <th>4</th>\n",
       "      <td>Wed, Oct 15</td>\n",
       "      <td>9793</td>\n",
       "      <td>832</td>\n",
       "      <td>140.0</td>\n",
       "      <td>94.0</td>\n",
       "    </tr>\n",
       "  </tbody>\n",
       "</table>\n",
       "</div>"
      ],
      "text/plain": [
       "          Date  Pageviews  Clicks  Enrollments  Payments\n",
       "0  Sat, Oct 11       7716     686        105.0      34.0\n",
       "1  Sun, Oct 12       9288     785        116.0      91.0\n",
       "2  Mon, Oct 13      10480     884        145.0      79.0\n",
       "3  Tue, Oct 14       9867     827        138.0      92.0\n",
       "4  Wed, Oct 15       9793     832        140.0      94.0"
      ]
     },
     "execution_count": 30,
     "metadata": {},
     "output_type": "execute_result"
    }
   ],
   "source": [
    "data_exp.head()"
   ]
  },
  {
   "cell_type": "markdown",
   "metadata": {},
   "source": [
    "### Number of cookies(pageviews)\n",
    "* H0: p  = 0.5\n",
    "* H1: p != 0.5\n",
    "* Check if the ratio of control cookies to total cookies is significantly different from 0.5. \n",
    "* The observed value is 0.5006, which is within the confidence interval [0.4988, 0.5012]. Therefore, we can't reject the null hypothesis. The number of cookies metric passes the sanity check.\n"
   ]
  },
  {
   "cell_type": "code",
   "execution_count": 31,
   "metadata": {},
   "outputs": [],
   "source": [
    "control_pageviews = data_control['Pageviews'].sum()\n",
    "exp_pageviews = data_exp['Pageviews'].sum()\n",
    "total_pageviews = control_pageviews + exp_pageviews"
   ]
  },
  {
   "cell_type": "code",
   "execution_count": 32,
   "metadata": {},
   "outputs": [
    {
     "name": "stdout",
     "output_type": "stream",
     "text": [
      "Pageviews CI: [0.49882039214902313, 0.5011796078509769]\n",
      "Observed Pageviews: 0.5006396668806133\n"
     ]
    }
   ],
   "source": [
    "p = 0.5\n",
    "alpha = 0.05\n",
    "ME_pageviews = 1.96 * math.sqrt(p*(1-p)/total_pageviews)\n",
    "p_pageviews = control_pageviews/total_pageviews\n",
    "CI_pageviews = [p - ME_pageviews, p + ME_pageviews]\n",
    "print(\"Pageviews CI:\",CI_pageviews)\n",
    "print(\"Observed Pageviews:\",p_pageviews)\n",
    "# ME_clicks = 1.96 * math.sqrt(p*(1-p)/total_clicks)"
   ]
  },
  {
   "cell_type": "markdown",
   "metadata": {},
   "source": [
    "### Number of clicks\n",
    "* H0: p  = 0.5\n",
    "* H1: p != 0.5\n",
    "* Check if the ratio of control clicks to total clicks is significantly different from 0.5. \n",
    "* The observed value is 0.5005, which is within the confidence interval [0.4959, 0.5041]. Therefore, we can't reject the null hypothesis. The number of clicks metric passes the sanity check."
   ]
  },
  {
   "cell_type": "code",
   "execution_count": 33,
   "metadata": {},
   "outputs": [],
   "source": [
    "control_clicks = data_control['Clicks'].sum()\n",
    "exp_clicks = data_exp['Clicks'].sum()\n",
    "total_clicks = control_clicks + exp_clicks"
   ]
  },
  {
   "cell_type": "code",
   "execution_count": 34,
   "metadata": {},
   "outputs": [
    {
     "name": "stdout",
     "output_type": "stream",
     "text": [
      "Clicks CI: [0.49588449572378945, 0.5041155042762105]\n",
      "Observed Clicks: 0.5004673474066628\n"
     ]
    }
   ],
   "source": [
    "p = 0.5\n",
    "alpha = 0.05\n",
    "ME_clicks = 1.96 * math.sqrt(p*(1-p)/total_clicks)\n",
    "p_clicks = control_clicks/total_clicks\n",
    "CI_clicks = [p - ME_clicks, p + ME_clicks]\n",
    "print(\"Clicks CI:\",CI_clicks)\n",
    "print(\"Observed Clicks:\",p_clicks)"
   ]
  },
  {
   "cell_type": "markdown",
   "metadata": {},
   "source": [
    "### Click through probability\n",
    "* H0: d  = 0\n",
    "* H1: d != 0\n",
    "* Here, we calculate the difference between control ctp and experiment ctp and check if significantly different from 0.\n",
    "* The observed value is 0.0001, which is within the confidence interval [-0.0013, 0.0013]. Therefore, we can't reject the null hypothesis. The click through probability metric passes the sanity check."
   ]
  },
  {
   "cell_type": "code",
   "execution_count": 35,
   "metadata": {},
   "outputs": [
    {
     "name": "stdout",
     "output_type": "stream",
     "text": [
      "Click-through-probability CI: [-0.0012956791986518956, 0.0012956791986518956]\n",
      "Observed Click-through-probability: 0.0001\n"
     ]
    }
   ],
   "source": [
    "control_ctp = control_clicks / control_pageviews\n",
    "exp_ctp = exp_clicks / exp_pageviews\n",
    "d_hat = round(exp_ctp - control_ctp,4)\n",
    "pool_p = (control_clicks+exp_clicks)/(control_pageviews+exp_pageviews)\n",
    "sd = math.sqrt(\n",
    "    pool_p*(1-pool_p)*(1/control_pageviews+1/exp_pageviews)\n",
    ")\n",
    "CI = [0 - 1.96*sd, 0 + 1.96*sd]\n",
    "print(\"Click-through-probability CI:\",CI)\n",
    "print(\"Observed Click-through-probability:\",d_hat)"
   ]
  },
  {
   "cell_type": "markdown",
   "metadata": {},
   "source": [
    "## Effect size tests"
   ]
  },
  {
   "cell_type": "markdown",
   "metadata": {},
   "source": [
    "### Gross Conversion"
   ]
  },
  {
   "cell_type": "markdown",
   "metadata": {},
   "source": [
    "* From below results, we see that the confidence interval is [-0.0291, -0.0120], which does not include 0. Therefore, we can reject the null hypothesis. The gross conversion is statistically significant. On the other hand, the practical significance is also significant because the confidence interval does not include -0.01 and 0.01. Therefore, the change is practically significant."
   ]
  },
  {
   "cell_type": "code",
   "execution_count": 36,
   "metadata": {},
   "outputs": [],
   "source": [
    "data_control= data_control[data_control['Enrollments'].notna()]\n",
    "data_exp= data_exp[data_exp['Enrollments'].notna()]\n",
    "control_clicks = data_control['Clicks'].sum()\n",
    "exp_clicks = data_exp['Clicks'].sum()\n",
    "control_enroll = data_control['Enrollments'].sum()\n",
    "exp_enroll = data_exp['Enrollments'].sum()\n",
    "control_GC = control_enroll / control_clicks\n",
    "exp_GC = exp_enroll / exp_clicks"
   ]
  },
  {
   "cell_type": "code",
   "execution_count": 37,
   "metadata": {},
   "outputs": [
    {
     "name": "stdout",
     "output_type": "stream",
     "text": [
      "Confidence interval:  [-0.02912320088750467, -0.011986548273218463]\n",
      "The change is statistically significant if the CI doesn't include 0. On the other hand, it is practically significant if -0.01 is not in the CI as well.\n"
     ]
    }
   ],
   "source": [
    "dmin = GC['d_min']\n",
    "d_hat = exp_GC - control_GC\n",
    "alpha = 0.05\n",
    "pool_p = (control_enroll+exp_enroll)/(control_clicks+exp_clicks)\n",
    "se = math.sqrt(pool_p*(1-pool_p)*(1/exp_clicks+1/control_clicks))\n",
    "ME = get_z_score(1-alpha/2)*se\n",
    "print(\"Confidence interval: \",[d_hat-ME, d_hat+ME])\n",
    "print (\"The change is statistically significant if the CI doesn't include 0. On the other hand, it is practically significant if\",-GC[\"d_min\"],\"is not in the CI as well.\")"
   ]
  },
  {
   "cell_type": "markdown",
   "metadata": {},
   "source": [
    "### Net conversion"
   ]
  },
  {
   "cell_type": "markdown",
   "metadata": {},
   "source": [
    "* From below results, we see that the confidence interval is [-0.0116, 0.0019], which includes 0. Therefore, we can't reject the null hypothesis. The net conversion is not statistically significant. Therefore, the practical significance is also not significant."
   ]
  },
  {
   "cell_type": "code",
   "execution_count": 38,
   "metadata": {},
   "outputs": [],
   "source": [
    "control_clicks = data_control['Clicks'].sum()\n",
    "exp_clicks = data_exp['Clicks'].sum()\n",
    "control_payments = data_control['Payments'].sum()\n",
    "exp_payments = data_exp['Payments'].sum()\n",
    "control_NC = control_payments / control_clicks\n",
    "exp_NC = exp_payments / exp_clicks"
   ]
  },
  {
   "cell_type": "code",
   "execution_count": 39,
   "metadata": {},
   "outputs": [
    {
     "name": "stdout",
     "output_type": "stream",
     "text": [
      "Confidence interval:  [-0.011604500677993734, 0.0018570553289053993]\n",
      "The change is NOT statistically significant as the CI includes 0. Therefore, it is NOT practically significant as well.\n"
     ]
    }
   ],
   "source": [
    "alpha = 0.05\n",
    "dmin = NC['d_min']\n",
    "d_hat = exp_NC - control_NC\n",
    "pool_p = (control_payments+exp_payments)/(control_clicks+exp_clicks)\n",
    "se = math.sqrt(pool_p*(1-pool_p)*(1/control_clicks+1/exp_clicks))\n",
    "ME = get_z_score(1-alpha/2)*se\n",
    "print(\"Confidence interval: \",[d_hat-ME, d_hat+ME])\n",
    "print (\"The change is NOT statistically significant as the CI includes 0. Therefore, it is NOT practically significant as well.\")"
   ]
  },
  {
   "cell_type": "markdown",
   "metadata": {},
   "source": [
    "## Sign tests"
   ]
  },
  {
   "cell_type": "markdown",
   "metadata": {},
   "source": [
    "* H0：正負號均等 (p=0.5)\n",
    "* Ha：正負號不均等 (p!=0.5)\n",
    "* From the Gross Conversion results, we see that the p-value is 0.0026, which is less than 0.05. Therefore, we can reject the null hypothesis. The sign test is statistically significant. The observed success rate is 0.174, far lower than the null hypothesis expectation of 0.5, meaning that the positive signs are much rarer than the negative signs.\n",
    "\n",
    "* From the Net Conversion results, we see that the p-value is 0.6776, which is greater than 0.05. Therefore, we can't reject the null hypothesis. The sign test is not statistically significant. Therefore, the change is not practically significant."
   ]
  },
  {
   "cell_type": "code",
   "execution_count": null,
   "metadata": {},
   "outputs": [],
   "source": [
    "full = pd.merge(data_control,data_exp, on='Date', suffixes=('_control','_exp'))\n",
    "full[\"control_GC\"] = full[\"Enrollments_control\"]/full[\"Clicks_control\"]\n",
    "full[\"control_NC\"] = full[\"Payments_control\"]/full[\"Clicks_control\"]\n",
    "full[\"exp_GC\"] = full[\"Enrollments_exp\"]/full[\"Clicks_exp\"]\n",
    "full[\"exp_NC\"] = full[\"Payments_exp\"]/full[\"Clicks_exp\"]\n",
    "full['sign_GC'] = np.where(full[\"exp_GC\"]>full[\"control_GC\"],1,0)\n",
    "full['sign_NC'] = np.where(full[\"exp_NC\"]>full[\"control_NC\"],1,0)"
   ]
  },
  {
   "cell_type": "code",
   "execution_count": 64,
   "metadata": {},
   "outputs": [
    {
     "name": "stdout",
     "output_type": "stream",
     "text": [
      "Sign test result for Gross Conversion:\n",
      "p-value:0.002599477767944336, success rate:0.17391304347826086\n",
      "Sign test result for Net Conversion:\n",
      "p-value:0.6776394844055176, success rate:0.43478260869565216\n"
     ]
    }
   ],
   "source": [
    "import scipy.stats as stats\n",
    "GC_res = stats.binomtest(full['sign_GC'].sum(), full.shape[0], p=0.5)\n",
    "print(f\"Sign test result for Gross Conversion:\")\n",
    "print(f\"p-value:{GC_res.pvalue}, success rate:{GC_res.statistic}\")\n",
    "NC_res = stats.binomtest(full['sign_NC'].sum(), full.shape[0], p=0.5)\n",
    "print(f\"Sign test result for Net Conversion:\")\n",
    "print(f\"p-value:{NC_res.pvalue}, success rate:{NC_res.statistic}\")"
   ]
  },
  {
   "cell_type": "markdown",
   "metadata": {},
   "source": [
    "## Conclusion\n",
    "* We define number of cookies, number of clicks, click-through-probability as invariate metrics. We use these metrics to check if the experiment was conducted correctly.\n",
    "* We define gross conversion, retention, net conversion as the evaluation metrics. We use these metrics to check if the experiment was successful.\n",
    "* Evaluation metric \"Retention\" requires unreasonable amount of time to run the experiment. Therefore, we will not run the experiment for the retention metric.\n",
    "* We use sanity check to check if the invariate metrics are consistent with the expected values. All invariate metrics pass the sanity check.\n",
    "* We use effect size tests to check if the evaluation metrics are statistically significant and practically significant. Gross conversion is statistically significant and practically significant. Net conversion is not statistically significant and practically significant.\n",
    "* We use sign tests to check if the evaluation metrics are statistically significant. Gross conversion is statistically significant, that is, the experimental group indeed has lower Gross conversion rate. Net conversion is not statistically significant."
   ]
  },
  {
   "cell_type": "markdown",
   "metadata": {},
   "source": [
    "## Recommendation\n",
    "In the experimental group, we see that the Gross conversion rate is lower than the control group. This means that the number of students who enroll in the free trial and complete the checkout process is lower in the experimental group. However, the Net conversion rate is not significantly different between the two groups, which indicates that the change does not increase the number of users who make at least one payment. Therefore, we recommend not to implement the change in the experiment."
   ]
  },
  {
   "cell_type": "markdown",
   "metadata": {},
   "source": []
  }
 ],
 "metadata": {
  "kernelspec": {
   "display_name": "ag",
   "language": "python",
   "name": "python3"
  },
  "language_info": {
   "codemirror_mode": {
    "name": "ipython",
    "version": 3
   },
   "file_extension": ".py",
   "mimetype": "text/x-python",
   "name": "python",
   "nbconvert_exporter": "python",
   "pygments_lexer": "ipython3",
   "version": "3.10.13"
  }
 },
 "nbformat": 4,
 "nbformat_minor": 2
}
